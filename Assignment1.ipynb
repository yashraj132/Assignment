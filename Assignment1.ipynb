{
  "nbformat": 4,
  "nbformat_minor": 0,
  "metadata": {
    "colab": {
      "provenance": []
    },
    "kernelspec": {
      "name": "python3",
      "display_name": "Python 3"
    },
    "language_info": {
      "name": "python"
    }
  },
  "cells": [
    {
      "cell_type": "code",
      "execution_count": 1,
      "metadata": {
        "id": "mj-ObwW0LW9s"
      },
      "outputs": [],
      "source": [
        "import numpy as np\n",
        "import pandas as pd\n",
        "import matplotlib.pyplot as plt\n",
        "import seaborn as sns"
      ]
    },
    {
      "cell_type": "code",
      "source": [
        "df = pd.read_csv('/content/Assignment - Junior Data Analyst.csv')"
      ],
      "metadata": {
        "id": "lIJB1k84Lzh5"
      },
      "execution_count": 2,
      "outputs": []
    },
    {
      "cell_type": "code",
      "source": [
        "df.head()"
      ],
      "metadata": {
        "colab": {
          "base_uri": "https://localhost:8080/",
          "height": 712
        },
        "id": "9Ymb5DAKL9Io",
        "outputId": "ab7966bd-9f19-4702-832d-1b624a5ea252"
      },
      "execution_count": 3,
      "outputs": [
        {
          "output_type": "execute_result",
          "data": {
            "text/plain": [
              "            battery                                     camera  \\\n",
              "0  5000 mAh Battery              12MP + 2MP | 8MP Front Camera   \n",
              "1  5000 mAh Battery  12MP + 8MP + 2MP + 2MP | 8MP Front Camera   \n",
              "2  5000 mAh Battery  12MP + 8MP + 2MP + 2MP | 8MP Front Camera   \n",
              "3  5000 mAh Battery  12MP + 8MP + 2MP + 2MP | 8MP Front Camera   \n",
              "4  4000 mAh Battery              13MP + 2MP | 5MP Front Camera   \n",
              "\n",
              "                            display  \\\n",
              "0   15.8 cm (6.22 inch) HD+ Display   \n",
              "1  16.56 cm (6.52 inch) HD+ Display   \n",
              "2  16.56 cm (6.52 inch) HD+ Display   \n",
              "3  16.56 cm (6.52 inch) HD+ Display   \n",
              "4   15.49 cm (6.1 inch) HD+ Display   \n",
              "\n",
              "                                          memory  \\\n",
              "0  4 GB RAM | 64 GB ROM | Expandable Upto 512 GB   \n",
              "1                           4 GB RAM | 64 GB ROM   \n",
              "2                          4 GB RAM | 128 GB ROM   \n",
              "3                          4 GB RAM | 128 GB ROM   \n",
              "4  3 GB RAM | 32 GB ROM | Expandable Upto 256 GB   \n",
              "\n",
              "                               name  price  \\\n",
              "0         Redmi 8 (Ruby Red, 64 GB)   9999   \n",
              "1      Realme 5i (Aqua Blue, 64 GB)  10999   \n",
              "2     Realme 5i (Aqua Blue, 128 GB)  11999   \n",
              "3  Realme 5i (Forest Green, 128 GB)  11999   \n",
              "4   Realme C2 (Diamond Blue, 32 GB)   7499   \n",
              "\n",
              "                                   processor  rating         reviews  \\\n",
              "0          Qualcomm Snapdragon 439 Processor     4.4  55,078 Reviews   \n",
              "1    Qualcomm Snapdragon 665 2 GHz Processor     4.5  20,062 Reviews   \n",
              "2  Qualcomm Snapdragon 665 (2 GHz) Processor     4.5  20,062 Reviews   \n",
              "3  Qualcomm Snapdragon 665 (2 GHz) Processor     4.5  20,062 Reviews   \n",
              "4   MediaTek P22 Octa Core 2.0 GHz Processor     4.4  10,091 Reviews   \n",
              "\n",
              "                                            warranty  \n",
              "0  Brand Warranty of 1 Year Available for Mobile ...  \n",
              "1                                     Sunrise Design  \n",
              "2                                     Sunrise Design  \n",
              "3                                     Sunrise Design  \n",
              "4           Dual Nano SIM slots and Memory Card Slot  "
            ],
            "text/html": [
              "\n",
              "  <div id=\"df-294ce7d0-0041-4275-b64b-70cb21e1df76\" class=\"colab-df-container\">\n",
              "    <div>\n",
              "<style scoped>\n",
              "    .dataframe tbody tr th:only-of-type {\n",
              "        vertical-align: middle;\n",
              "    }\n",
              "\n",
              "    .dataframe tbody tr th {\n",
              "        vertical-align: top;\n",
              "    }\n",
              "\n",
              "    .dataframe thead th {\n",
              "        text-align: right;\n",
              "    }\n",
              "</style>\n",
              "<table border=\"1\" class=\"dataframe\">\n",
              "  <thead>\n",
              "    <tr style=\"text-align: right;\">\n",
              "      <th></th>\n",
              "      <th>battery</th>\n",
              "      <th>camera</th>\n",
              "      <th>display</th>\n",
              "      <th>memory</th>\n",
              "      <th>name</th>\n",
              "      <th>price</th>\n",
              "      <th>processor</th>\n",
              "      <th>rating</th>\n",
              "      <th>reviews</th>\n",
              "      <th>warranty</th>\n",
              "    </tr>\n",
              "  </thead>\n",
              "  <tbody>\n",
              "    <tr>\n",
              "      <th>0</th>\n",
              "      <td>5000 mAh Battery</td>\n",
              "      <td>12MP + 2MP | 8MP Front Camera</td>\n",
              "      <td>15.8 cm (6.22 inch) HD+ Display</td>\n",
              "      <td>4 GB RAM | 64 GB ROM | Expandable Upto 512 GB</td>\n",
              "      <td>Redmi 8 (Ruby Red, 64 GB)</td>\n",
              "      <td>9999</td>\n",
              "      <td>Qualcomm Snapdragon 439 Processor</td>\n",
              "      <td>4.4</td>\n",
              "      <td>55,078 Reviews</td>\n",
              "      <td>Brand Warranty of 1 Year Available for Mobile ...</td>\n",
              "    </tr>\n",
              "    <tr>\n",
              "      <th>1</th>\n",
              "      <td>5000 mAh Battery</td>\n",
              "      <td>12MP + 8MP + 2MP + 2MP | 8MP Front Camera</td>\n",
              "      <td>16.56 cm (6.52 inch) HD+ Display</td>\n",
              "      <td>4 GB RAM | 64 GB ROM</td>\n",
              "      <td>Realme 5i (Aqua Blue, 64 GB)</td>\n",
              "      <td>10999</td>\n",
              "      <td>Qualcomm Snapdragon 665 2 GHz Processor</td>\n",
              "      <td>4.5</td>\n",
              "      <td>20,062 Reviews</td>\n",
              "      <td>Sunrise Design</td>\n",
              "    </tr>\n",
              "    <tr>\n",
              "      <th>2</th>\n",
              "      <td>5000 mAh Battery</td>\n",
              "      <td>12MP + 8MP + 2MP + 2MP | 8MP Front Camera</td>\n",
              "      <td>16.56 cm (6.52 inch) HD+ Display</td>\n",
              "      <td>4 GB RAM | 128 GB ROM</td>\n",
              "      <td>Realme 5i (Aqua Blue, 128 GB)</td>\n",
              "      <td>11999</td>\n",
              "      <td>Qualcomm Snapdragon 665 (2 GHz) Processor</td>\n",
              "      <td>4.5</td>\n",
              "      <td>20,062 Reviews</td>\n",
              "      <td>Sunrise Design</td>\n",
              "    </tr>\n",
              "    <tr>\n",
              "      <th>3</th>\n",
              "      <td>5000 mAh Battery</td>\n",
              "      <td>12MP + 8MP + 2MP + 2MP | 8MP Front Camera</td>\n",
              "      <td>16.56 cm (6.52 inch) HD+ Display</td>\n",
              "      <td>4 GB RAM | 128 GB ROM</td>\n",
              "      <td>Realme 5i (Forest Green, 128 GB)</td>\n",
              "      <td>11999</td>\n",
              "      <td>Qualcomm Snapdragon 665 (2 GHz) Processor</td>\n",
              "      <td>4.5</td>\n",
              "      <td>20,062 Reviews</td>\n",
              "      <td>Sunrise Design</td>\n",
              "    </tr>\n",
              "    <tr>\n",
              "      <th>4</th>\n",
              "      <td>4000 mAh Battery</td>\n",
              "      <td>13MP + 2MP | 5MP Front Camera</td>\n",
              "      <td>15.49 cm (6.1 inch) HD+ Display</td>\n",
              "      <td>3 GB RAM | 32 GB ROM | Expandable Upto 256 GB</td>\n",
              "      <td>Realme C2 (Diamond Blue, 32 GB)</td>\n",
              "      <td>7499</td>\n",
              "      <td>MediaTek P22 Octa Core 2.0 GHz Processor</td>\n",
              "      <td>4.4</td>\n",
              "      <td>10,091 Reviews</td>\n",
              "      <td>Dual Nano SIM slots and Memory Card Slot</td>\n",
              "    </tr>\n",
              "  </tbody>\n",
              "</table>\n",
              "</div>\n",
              "    <div class=\"colab-df-buttons\">\n",
              "\n",
              "  <div class=\"colab-df-container\">\n",
              "    <button class=\"colab-df-convert\" onclick=\"convertToInteractive('df-294ce7d0-0041-4275-b64b-70cb21e1df76')\"\n",
              "            title=\"Convert this dataframe to an interactive table.\"\n",
              "            style=\"display:none;\">\n",
              "\n",
              "  <svg xmlns=\"http://www.w3.org/2000/svg\" height=\"24px\" viewBox=\"0 -960 960 960\">\n",
              "    <path d=\"M120-120v-720h720v720H120Zm60-500h600v-160H180v160Zm220 220h160v-160H400v160Zm0 220h160v-160H400v160ZM180-400h160v-160H180v160Zm440 0h160v-160H620v160ZM180-180h160v-160H180v160Zm440 0h160v-160H620v160Z\"/>\n",
              "  </svg>\n",
              "    </button>\n",
              "\n",
              "  <style>\n",
              "    .colab-df-container {\n",
              "      display:flex;\n",
              "      gap: 12px;\n",
              "    }\n",
              "\n",
              "    .colab-df-convert {\n",
              "      background-color: #E8F0FE;\n",
              "      border: none;\n",
              "      border-radius: 50%;\n",
              "      cursor: pointer;\n",
              "      display: none;\n",
              "      fill: #1967D2;\n",
              "      height: 32px;\n",
              "      padding: 0 0 0 0;\n",
              "      width: 32px;\n",
              "    }\n",
              "\n",
              "    .colab-df-convert:hover {\n",
              "      background-color: #E2EBFA;\n",
              "      box-shadow: 0px 1px 2px rgba(60, 64, 67, 0.3), 0px 1px 3px 1px rgba(60, 64, 67, 0.15);\n",
              "      fill: #174EA6;\n",
              "    }\n",
              "\n",
              "    .colab-df-buttons div {\n",
              "      margin-bottom: 4px;\n",
              "    }\n",
              "\n",
              "    [theme=dark] .colab-df-convert {\n",
              "      background-color: #3B4455;\n",
              "      fill: #D2E3FC;\n",
              "    }\n",
              "\n",
              "    [theme=dark] .colab-df-convert:hover {\n",
              "      background-color: #434B5C;\n",
              "      box-shadow: 0px 1px 3px 1px rgba(0, 0, 0, 0.15);\n",
              "      filter: drop-shadow(0px 1px 2px rgba(0, 0, 0, 0.3));\n",
              "      fill: #FFFFFF;\n",
              "    }\n",
              "  </style>\n",
              "\n",
              "    <script>\n",
              "      const buttonEl =\n",
              "        document.querySelector('#df-294ce7d0-0041-4275-b64b-70cb21e1df76 button.colab-df-convert');\n",
              "      buttonEl.style.display =\n",
              "        google.colab.kernel.accessAllowed ? 'block' : 'none';\n",
              "\n",
              "      async function convertToInteractive(key) {\n",
              "        const element = document.querySelector('#df-294ce7d0-0041-4275-b64b-70cb21e1df76');\n",
              "        const dataTable =\n",
              "          await google.colab.kernel.invokeFunction('convertToInteractive',\n",
              "                                                    [key], {});\n",
              "        if (!dataTable) return;\n",
              "\n",
              "        const docLinkHtml = 'Like what you see? Visit the ' +\n",
              "          '<a target=\"_blank\" href=https://colab.research.google.com/notebooks/data_table.ipynb>data table notebook</a>'\n",
              "          + ' to learn more about interactive tables.';\n",
              "        element.innerHTML = '';\n",
              "        dataTable['output_type'] = 'display_data';\n",
              "        await google.colab.output.renderOutput(dataTable, element);\n",
              "        const docLink = document.createElement('div');\n",
              "        docLink.innerHTML = docLinkHtml;\n",
              "        element.appendChild(docLink);\n",
              "      }\n",
              "    </script>\n",
              "  </div>\n",
              "\n",
              "\n",
              "<div id=\"df-872ec670-a861-40c1-889d-fc61a123e1c4\">\n",
              "  <button class=\"colab-df-quickchart\" onclick=\"quickchart('df-872ec670-a861-40c1-889d-fc61a123e1c4')\"\n",
              "            title=\"Suggest charts\"\n",
              "            style=\"display:none;\">\n",
              "\n",
              "<svg xmlns=\"http://www.w3.org/2000/svg\" height=\"24px\"viewBox=\"0 0 24 24\"\n",
              "     width=\"24px\">\n",
              "    <g>\n",
              "        <path d=\"M19 3H5c-1.1 0-2 .9-2 2v14c0 1.1.9 2 2 2h14c1.1 0 2-.9 2-2V5c0-1.1-.9-2-2-2zM9 17H7v-7h2v7zm4 0h-2V7h2v10zm4 0h-2v-4h2v4z\"/>\n",
              "    </g>\n",
              "</svg>\n",
              "  </button>\n",
              "\n",
              "<style>\n",
              "  .colab-df-quickchart {\n",
              "      --bg-color: #E8F0FE;\n",
              "      --fill-color: #1967D2;\n",
              "      --hover-bg-color: #E2EBFA;\n",
              "      --hover-fill-color: #174EA6;\n",
              "      --disabled-fill-color: #AAA;\n",
              "      --disabled-bg-color: #DDD;\n",
              "  }\n",
              "\n",
              "  [theme=dark] .colab-df-quickchart {\n",
              "      --bg-color: #3B4455;\n",
              "      --fill-color: #D2E3FC;\n",
              "      --hover-bg-color: #434B5C;\n",
              "      --hover-fill-color: #FFFFFF;\n",
              "      --disabled-bg-color: #3B4455;\n",
              "      --disabled-fill-color: #666;\n",
              "  }\n",
              "\n",
              "  .colab-df-quickchart {\n",
              "    background-color: var(--bg-color);\n",
              "    border: none;\n",
              "    border-radius: 50%;\n",
              "    cursor: pointer;\n",
              "    display: none;\n",
              "    fill: var(--fill-color);\n",
              "    height: 32px;\n",
              "    padding: 0;\n",
              "    width: 32px;\n",
              "  }\n",
              "\n",
              "  .colab-df-quickchart:hover {\n",
              "    background-color: var(--hover-bg-color);\n",
              "    box-shadow: 0 1px 2px rgba(60, 64, 67, 0.3), 0 1px 3px 1px rgba(60, 64, 67, 0.15);\n",
              "    fill: var(--button-hover-fill-color);\n",
              "  }\n",
              "\n",
              "  .colab-df-quickchart-complete:disabled,\n",
              "  .colab-df-quickchart-complete:disabled:hover {\n",
              "    background-color: var(--disabled-bg-color);\n",
              "    fill: var(--disabled-fill-color);\n",
              "    box-shadow: none;\n",
              "  }\n",
              "\n",
              "  .colab-df-spinner {\n",
              "    border: 2px solid var(--fill-color);\n",
              "    border-color: transparent;\n",
              "    border-bottom-color: var(--fill-color);\n",
              "    animation:\n",
              "      spin 1s steps(1) infinite;\n",
              "  }\n",
              "\n",
              "  @keyframes spin {\n",
              "    0% {\n",
              "      border-color: transparent;\n",
              "      border-bottom-color: var(--fill-color);\n",
              "      border-left-color: var(--fill-color);\n",
              "    }\n",
              "    20% {\n",
              "      border-color: transparent;\n",
              "      border-left-color: var(--fill-color);\n",
              "      border-top-color: var(--fill-color);\n",
              "    }\n",
              "    30% {\n",
              "      border-color: transparent;\n",
              "      border-left-color: var(--fill-color);\n",
              "      border-top-color: var(--fill-color);\n",
              "      border-right-color: var(--fill-color);\n",
              "    }\n",
              "    40% {\n",
              "      border-color: transparent;\n",
              "      border-right-color: var(--fill-color);\n",
              "      border-top-color: var(--fill-color);\n",
              "    }\n",
              "    60% {\n",
              "      border-color: transparent;\n",
              "      border-right-color: var(--fill-color);\n",
              "    }\n",
              "    80% {\n",
              "      border-color: transparent;\n",
              "      border-right-color: var(--fill-color);\n",
              "      border-bottom-color: var(--fill-color);\n",
              "    }\n",
              "    90% {\n",
              "      border-color: transparent;\n",
              "      border-bottom-color: var(--fill-color);\n",
              "    }\n",
              "  }\n",
              "</style>\n",
              "\n",
              "  <script>\n",
              "    async function quickchart(key) {\n",
              "      const quickchartButtonEl =\n",
              "        document.querySelector('#' + key + ' button');\n",
              "      quickchartButtonEl.disabled = true;  // To prevent multiple clicks.\n",
              "      quickchartButtonEl.classList.add('colab-df-spinner');\n",
              "      try {\n",
              "        const charts = await google.colab.kernel.invokeFunction(\n",
              "            'suggestCharts', [key], {});\n",
              "      } catch (error) {\n",
              "        console.error('Error during call to suggestCharts:', error);\n",
              "      }\n",
              "      quickchartButtonEl.classList.remove('colab-df-spinner');\n",
              "      quickchartButtonEl.classList.add('colab-df-quickchart-complete');\n",
              "    }\n",
              "    (() => {\n",
              "      let quickchartButtonEl =\n",
              "        document.querySelector('#df-872ec670-a861-40c1-889d-fc61a123e1c4 button');\n",
              "      quickchartButtonEl.style.display =\n",
              "        google.colab.kernel.accessAllowed ? 'block' : 'none';\n",
              "    })();\n",
              "  </script>\n",
              "</div>\n",
              "\n",
              "    </div>\n",
              "  </div>\n"
            ],
            "application/vnd.google.colaboratory.intrinsic+json": {
              "type": "dataframe",
              "variable_name": "df",
              "summary": "{\n  \"name\": \"df\",\n  \"rows\": 984,\n  \"fields\": [\n    {\n      \"column\": \"battery\",\n      \"properties\": {\n        \"dtype\": \"category\",\n        \"num_unique_values\": 177,\n        \"samples\": [\n          \"4500 mAh Lithium-ion Battery\",\n          \"4020 mAh Battery\",\n          \"2500 mAh Lithium Polymer Battery\"\n        ],\n        \"semantic_type\": \"\",\n        \"description\": \"\"\n      }\n    },\n    {\n      \"column\": \"camera\",\n      \"properties\": {\n        \"dtype\": \"category\",\n        \"num_unique_values\": 185,\n        \"samples\": [\n          \"64MP + 8MP + 2MP + 2MP | 20MP Front Camera\",\n          \"48MP + 8MP + 5MP + 5MP | 20MP Front Camera\",\n          \"5MP + 0.08MP | 2MP Front Camera\"\n        ],\n        \"semantic_type\": \"\",\n        \"description\": \"\"\n      }\n    },\n    {\n      \"column\": \"display\",\n      \"properties\": {\n        \"dtype\": \"category\",\n        \"num_unique_values\": 125,\n        \"samples\": [\n          \"16.59 cm (6.53 inch) Display\",\n          \"13.84 cm (5.45 inch) FWVGA Display\",\n          \"13.46 cm (5.3 inch) Full HD+ Display\"\n        ],\n        \"semantic_type\": \"\",\n        \"description\": \"\"\n      }\n    },\n    {\n      \"column\": \"memory\",\n      \"properties\": {\n        \"dtype\": \"category\",\n        \"num_unique_values\": 89,\n        \"samples\": [\n          \"3 GB RAM | 16 GB ROM | Expandable Upto 64 GB\",\n          \"1 GB RAM | 16 GB ROM | Expandable Upto 128 GB\",\n          \"8 GB RAM | 256 GB ROM | Expandable Upto 256 GB\"\n        ],\n        \"semantic_type\": \"\",\n        \"description\": \"\"\n      }\n    },\n    {\n      \"column\": \"name\",\n      \"properties\": {\n        \"dtype\": \"string\",\n        \"num_unique_values\": 878,\n        \"samples\": [\n          \"Itel A23 (Phantom Black, 8 GB)\",\n          \"Realme XT (Pearl Blue, 128 GB)\",\n          \"Samsung Galaxy On5 (Gold, 8 GB)\"\n        ],\n        \"semantic_type\": \"\",\n        \"description\": \"\"\n      }\n    },\n    {\n      \"column\": \"price\",\n      \"properties\": {\n        \"dtype\": \"number\",\n        \"std\": 12891,\n        \"min\": 887,\n        \"max\": 104999,\n        \"num_unique_values\": 355,\n        \"samples\": [\n          3290,\n          15891,\n          26900\n        ],\n        \"semantic_type\": \"\",\n        \"description\": \"\"\n      }\n    },\n    {\n      \"column\": \"processor\",\n      \"properties\": {\n        \"dtype\": \"category\",\n        \"num_unique_values\": 287,\n        \"samples\": [\n          \"Qualcomm SM6125 Processor\",\n          \"MT6737T Processor\",\n          \"Octa Core Qualcomm Snapdragon 430 Processor\"\n        ],\n        \"semantic_type\": \"\",\n        \"description\": \"\"\n      }\n    },\n    {\n      \"column\": \"rating\",\n      \"properties\": {\n        \"dtype\": \"number\",\n        \"std\": 0.30029575492320804,\n        \"min\": 2.7,\n        \"max\": 4.9,\n        \"num_unique_values\": 23,\n        \"samples\": [\n          3.6,\n          4.0,\n          4.4\n        ],\n        \"semantic_type\": \"\",\n        \"description\": \"\"\n      }\n    },\n    {\n      \"column\": \"reviews\",\n      \"properties\": {\n        \"dtype\": \"category\",\n        \"num_unique_values\": 386,\n        \"samples\": [\n          \"2,290 Reviews\",\n          \"380 Reviews\",\n          \"36 Reviews\"\n        ],\n        \"semantic_type\": \"\",\n        \"description\": \"\"\n      }\n    },\n    {\n      \"column\": \"warranty\",\n      \"properties\": {\n        \"dtype\": \"category\",\n        \"num_unique_values\": 92,\n        \"samples\": [\n          \"Brand Warranty of 1 Year Available for Mobile, 6 Months for Battery and 3 Months on Accessories (Data Cable)\",\n          \"Fast Charging\",\n          \"1 Year for Mobile & 6 Months for Accessories\"\n        ],\n        \"semantic_type\": \"\",\n        \"description\": \"\"\n      }\n    }\n  ]\n}"
            }
          },
          "metadata": {},
          "execution_count": 3
        }
      ]
    },
    {
      "cell_type": "code",
      "source": [
        "df.shape"
      ],
      "metadata": {
        "colab": {
          "base_uri": "https://localhost:8080/"
        },
        "id": "y9YYibF8MEsv",
        "outputId": "c1e5aa02-a46d-4e18-c89e-dd1082d83c6a"
      },
      "execution_count": 4,
      "outputs": [
        {
          "output_type": "execute_result",
          "data": {
            "text/plain": [
              "(984, 10)"
            ]
          },
          "metadata": {},
          "execution_count": 4
        }
      ]
    },
    {
      "cell_type": "markdown",
      "source": [
        "**Univariate Analysis**"
      ],
      "metadata": {
        "id": "_5IeXVZDWXXO"
      }
    },
    {
      "cell_type": "markdown",
      "source": [
        "*Numerical Columns*"
      ],
      "metadata": {
        "id": "FN-kW_3zZdpu"
      }
    },
    {
      "cell_type": "markdown",
      "source": [
        "Price"
      ],
      "metadata": {
        "id": "5PgP68mrW-iH"
      }
    },
    {
      "cell_type": "code",
      "source": [
        "mean_price = np.mean(df['price'])\n",
        "median_price = np.median(df['price'])\n",
        "mode_price = df['price'].mode()\n",
        "min_price = np.min(df['price'])\n",
        "max_price = np.max(df['price'])\n",
        "deviation = np.std(df['price'])\n",
        "print(mean_price)\n",
        "print(median_price)\n",
        "print(mode_price)\n",
        "print(max_price)\n",
        "print(min_price)\n",
        "print(deviation)"
      ],
      "metadata": {
        "colab": {
          "base_uri": "https://localhost:8080/"
        },
        "id": "7PlsF4DXWkF_",
        "outputId": "8820c4c2-dd1f-42e0-8c01-b29ca0f53984"
      },
      "execution_count": 54,
      "outputs": [
        {
          "output_type": "stream",
          "name": "stdout",
          "text": [
            "15429.848577235773\n",
            "11649.0\n",
            "0    9999\n",
            "Name: price, dtype: int64\n",
            "104999\n",
            "887\n",
            "12884.803815986543\n"
          ]
        }
      ]
    },
    {
      "cell_type": "markdown",
      "source": [
        "Rating"
      ],
      "metadata": {
        "id": "MO7wLQgbXCg4"
      }
    },
    {
      "cell_type": "code",
      "source": [
        "mean_rating = np.mean(df['rating'])\n",
        "median_rating = np.median(df['rating'])\n",
        "mode_rating = df['rating'].mode()\n",
        "deviation = np.std(df['rating'])\n",
        "max_rating = np.max(df['rating'])\n",
        "min_rating = np.min(df['rating'])\n",
        "print(mean_rating)\n",
        "print(median_rating)\n",
        "print(mode_rating)\n",
        "print(max_rating)\n",
        "print(min_rating)\n",
        "print(deviation)"
      ],
      "metadata": {
        "colab": {
          "base_uri": "https://localhost:8080/"
        },
        "id": "L_NpCmPlTXpn",
        "outputId": "fbe8d87f-7619-4cf2-9244-e318ee96b8bf"
      },
      "execution_count": 48,
      "outputs": [
        {
          "output_type": "stream",
          "name": "stdout",
          "text": [
            "4.24119464469619\n",
            "nan\n",
            "0    4.4\n",
            "Name: rating, dtype: float64\n",
            "4.9\n",
            "2.7\n",
            "0.3001410828784772\n"
          ]
        }
      ]
    },
    {
      "cell_type": "markdown",
      "source": [
        "*Categorial Columns*"
      ],
      "metadata": {
        "id": "5oOdfgqJZrNr"
      }
    },
    {
      "cell_type": "markdown",
      "source": [
        "Battery"
      ],
      "metadata": {
        "id": "7kekENN-XNHK"
      }
    },
    {
      "cell_type": "code",
      "source": [
        "count = df['battery'].value_counts()\n",
        "most_common = count.idxmax()\n",
        "print(count)\n",
        "print(most_common)"
      ],
      "metadata": {
        "colab": {
          "base_uri": "https://localhost:8080/"
        },
        "id": "ZVw8nekzXPJu",
        "outputId": "bde9f76a-8dbf-4cd2-ea7f-991451f073e3"
      },
      "execution_count": 60,
      "outputs": [
        {
          "output_type": "stream",
          "name": "stdout",
          "text": [
            "battery\n",
            "4000 mAh Battery                    113\n",
            "5000 mAh Battery                     76\n",
            "3000 mAh Battery                     67\n",
            "4000 mAh Li-polymer Battery          48\n",
            "4230 mAh Battery                     30\n",
            "                                   ... \n",
            "3200 mAh Li-ion Battery               1\n",
            "1400 mAh Battery                      1\n",
            "6000 mAh Lithium Polymer Battery      1\n",
            "2800 mAh Li-ion Battery               1\n",
            "2100 mAh Li-Ion Battery               1\n",
            "Name: count, Length: 177, dtype: int64\n",
            "4000 mAh Battery\n"
          ]
        }
      ]
    },
    {
      "cell_type": "markdown",
      "source": [
        "Camera"
      ],
      "metadata": {
        "id": "WSNLP_rSZyP-"
      }
    },
    {
      "cell_type": "code",
      "source": [
        "count = df['camera'].value_counts()\n",
        "most_common = count.idxmax()\n",
        "print(count)\n",
        "print(most_common)"
      ],
      "metadata": {
        "colab": {
          "base_uri": "https://localhost:8080/"
        },
        "id": "NlvEA5vmZoCR",
        "outputId": "8a924728-9547-4215-9fe0-713a7a110a29"
      },
      "execution_count": 61,
      "outputs": [
        {
          "output_type": "stream",
          "name": "stdout",
          "text": [
            "camera\n",
            "13MP Rear Camera | 5MP Front Camera            53\n",
            "8MP Rear Camera | 5MP Front Camera             47\n",
            "13MP + 2MP | 8MP Front Camera                  39\n",
            "13MP Rear Camera | 8MP Front Camera            32\n",
            "13MP + 2MP | 5MP Front Camera                  26\n",
            "                                               ..\n",
            "48MP + 8MP | 16MP Front Camera                  1\n",
            "48MP + 13MP + 8MP + 8MP | 32MP Front Camera     1\n",
            "48MP + 13MP + 8MP | 16MP Front Camera           1\n",
            "48MP Rear Camera | 13MP Front Camera            1\n",
            "13MP + 2MP | 5MP Dual Front Camera              1\n",
            "Name: count, Length: 185, dtype: int64\n",
            "13MP Rear Camera | 5MP Front Camera\n"
          ]
        }
      ]
    },
    {
      "cell_type": "markdown",
      "source": [
        "Display"
      ],
      "metadata": {
        "id": "f6Q3i6zraBi_"
      }
    },
    {
      "cell_type": "code",
      "source": [
        "count = df['display'].value_counts()\n",
        "most_common = count.idxmax()\n",
        "print(count)\n",
        "print(most_common)"
      ],
      "metadata": {
        "colab": {
          "base_uri": "https://localhost:8080/"
        },
        "id": "0I3kq9I_abI8",
        "outputId": "50f1623a-91ac-4bd0-c934-9b29d13b8b74"
      },
      "execution_count": 62,
      "outputs": [
        {
          "output_type": "stream",
          "name": "stdout",
          "text": [
            "display\n",
            "16.0 cm (6.3 inch) Full HD+ Display      56\n",
            "12.7 cm (5 inch) HD Display              52\n",
            "15.8 cm (6.22 inch) HD+ Display          48\n",
            "16.26 cm (6.4 inch) Full HD+ Display     45\n",
            "16.59 cm (6.53 inch) Full HD+ Display    36\n",
            "                                         ..\n",
            "13.56 cm (5.34 inch) FWVGA Display        1\n",
            "15.62 cm (6.15 inch) Full HD+ Display     1\n",
            "16.26 cm (6.4 Inches) Display             1\n",
            "14.48 cm (5.7 inch) Full HD Display       1\n",
            "12.7 cm (5 inch) Quad HD Display          1\n",
            "Name: count, Length: 125, dtype: int64\n",
            "16.0 cm (6.3 inch) Full HD+ Display\n"
          ]
        }
      ]
    },
    {
      "cell_type": "markdown",
      "source": [
        "Memory"
      ],
      "metadata": {
        "id": "-RcTbL0Lah9h"
      }
    },
    {
      "cell_type": "code",
      "source": [
        "count = df['memory'].value_counts()\n",
        "most_common = count.idxmax()\n",
        "print(count)\n",
        "print(most_common)"
      ],
      "metadata": {
        "colab": {
          "base_uri": "https://localhost:8080/"
        },
        "id": "Yy1cFTOJag2p",
        "outputId": "6a8bc38d-b17e-491f-e96a-c2398a0d2e17"
      },
      "execution_count": 63,
      "outputs": [
        {
          "output_type": "stream",
          "name": "stdout",
          "text": [
            "memory\n",
            "4 GB RAM | 64 GB ROM | Expandable Upto 256 GB     88\n",
            "3 GB RAM | 32 GB ROM | Expandable Upto 256 GB     63\n",
            "4 GB RAM | 64 GB ROM | Expandable Upto 512 GB     42\n",
            "6 GB RAM | 128 GB ROM | Expandable Upto 256 GB    41\n",
            "8 GB RAM | 128 GB ROM                             39\n",
            "                                                  ..\n",
            "3 GB RAM | 32 GB ROM | Expandable Upto 64 GB       1\n",
            "4 GB RAM | 128 GB ROM | Expandable Upto 400 GB     1\n",
            "1 GB RAM | 32 GB ROM | Expandable Upto 128 GB      1\n",
            "512 MB RAM | 4 GB ROM                              1\n",
            "4 GB RAM | 256 GB ROM | Expandable Upto 400 GB     1\n",
            "Name: count, Length: 89, dtype: int64\n",
            "4 GB RAM | 64 GB ROM | Expandable Upto 256 GB\n"
          ]
        }
      ]
    },
    {
      "cell_type": "markdown",
      "source": [
        "Processor"
      ],
      "metadata": {
        "id": "GbD2a6_wapyg"
      }
    },
    {
      "cell_type": "code",
      "source": [
        "count = df['processor'].value_counts()\n",
        "most_common = count.idxmax()\n",
        "print(count)\n",
        "print(most_common)"
      ],
      "metadata": {
        "colab": {
          "base_uri": "https://localhost:8080/"
        },
        "id": "RSS_K0U0auA6",
        "outputId": "284c5682-5c75-4ab6-b715-dd86185372c0"
      },
      "execution_count": 64,
      "outputs": [
        {
          "output_type": "stream",
          "name": "stdout",
          "text": [
            "processor\n",
            "Qualcomm Snapdragon 730G Processor                                                                                                                 21\n",
            "1 year manufacturer warranty for device and 6 months manufacturer warranty for in-box accessories including batteries from the date of purchase    20\n",
            "Qualcomm Snapdragon 439 Processor                                                                                                                  18\n",
            "MediaTek Helio G90T Processor                                                                                                                      18\n",
            "Qualcomm Snapdragon 665 Processor                                                                                                                  18\n",
            "                                                                                                                                                   ..\n",
            "MTK MT6739 Processor                                                                                                                                1\n",
            "MT6761 Processor                                                                                                                                    1\n",
            "MT8735A A53 Processor                                                                                                                               1\n",
            "MediaTek MT6755 Helio P10 Octa Core 2.0GHz Processor                                                                                                1\n",
            "MTK 6592M Processor                                                                                                                                 1\n",
            "Name: count, Length: 287, dtype: int64\n",
            "Qualcomm Snapdragon 730G Processor\n"
          ]
        }
      ]
    },
    {
      "cell_type": "markdown",
      "source": [
        "Reviews"
      ],
      "metadata": {
        "id": "TYEP88LGa0YN"
      }
    },
    {
      "cell_type": "code",
      "source": [
        "count = df['reviews'].value_counts()\n",
        "most_common = count.idxmax()\n",
        "print(count)\n",
        "print(most_common)"
      ],
      "metadata": {
        "colab": {
          "base_uri": "https://localhost:8080/"
        },
        "id": "qgkJnxPYa2W2",
        "outputId": "6ef5655a-d5b2-4194-9b68-48a64811dc1d"
      },
      "execution_count": 65,
      "outputs": [
        {
          "output_type": "stream",
          "name": "stdout",
          "text": [
            "reviews\n",
            "1 Reviews         10\n",
            "3 Reviews         10\n",
            "31 Reviews         9\n",
            "8 Reviews          9\n",
            "10,091 Reviews     8\n",
            "                  ..\n",
            "599 Reviews        1\n",
            "51 Reviews         1\n",
            "900 Reviews        1\n",
            "391 Reviews        1\n",
            "81 Reviews         1\n",
            "Name: count, Length: 386, dtype: int64\n",
            "1 Reviews\n"
          ]
        }
      ]
    },
    {
      "cell_type": "markdown",
      "source": [
        "Warranty"
      ],
      "metadata": {
        "id": "odFMyFTKa5rZ"
      }
    },
    {
      "cell_type": "code",
      "source": [
        "count = df['warranty'].value_counts()\n",
        "most_common = count.idxmax()\n",
        "print(count)\n",
        "print(most_common)"
      ],
      "metadata": {
        "colab": {
          "base_uri": "https://localhost:8080/"
        },
        "id": "buiAxHDRa8pi",
        "outputId": "1c5da1a1-3ec0-417f-9111-3476c182b653"
      },
      "execution_count": 66,
      "outputs": [
        {
          "output_type": "stream",
          "name": "stdout",
          "text": [
            "warranty\n",
            "Brand Warranty of 1 Year Available for Mobile and 6 Months for Accessories                                                                         323\n",
            "1 year manufacturer warranty for device and 6 months manufacturer warranty for in-box accessories including batteries from the date of purchase     37\n",
            "Brand Warranty of 1 Year Available for Mobile and 6 Months for Battery and Accessories                                                              33\n",
            "Brand Warranty of 1 Year                                                                                                                            28\n",
            "1 Year Manufacturer Warranty for Phone and 6 Months Warranty for in the Box Accessories                                                             23\n",
            "                                                                                                                                                  ... \n",
            "1 Year for Handset                                                                                                                                   1\n",
            "Brand Warranty of 1 Year Available for Mobile, 6 Months for Battery and 3 Months on Accessories (Data Cable)                                         1\n",
            "Full HD+ 3D Curved E3 AMOLED HDR 10+ Display                                                                                                         1\n",
            "1 Year on Handset & 6 Months on Accessories                                                                                                          1\n",
            "Qualcomm Snapdragon 865 Processor                                                                                                                    1\n",
            "Name: count, Length: 92, dtype: int64\n",
            "Brand Warranty of 1 Year Available for Mobile and 6 Months for Accessories\n"
          ]
        }
      ]
    },
    {
      "cell_type": "markdown",
      "source": [
        "**Bivariate Analysis**"
      ],
      "metadata": {
        "id": "dUvyFUQxbWUi"
      }
    },
    {
      "cell_type": "markdown",
      "source": [
        "Price vs Rating"
      ],
      "metadata": {
        "id": "chB-rcU3bcxQ"
      }
    },
    {
      "cell_type": "code",
      "source": [
        "plt.plot(df['price'], df['rating'], 'x')\n",
        "plt.title('Price vs Rating')\n",
        "plt.xlabel('Price')\n",
        "plt.ylabel('Rating')"
      ],
      "metadata": {
        "colab": {
          "base_uri": "https://localhost:8080/",
          "height": 490
        },
        "id": "ABlCzA8nbcEA",
        "outputId": "897300c3-68d9-4a56-9808-71c148adf05d"
      },
      "execution_count": 69,
      "outputs": [
        {
          "output_type": "execute_result",
          "data": {
            "text/plain": [
              "Text(0, 0.5, 'Rating')"
            ]
          },
          "metadata": {},
          "execution_count": 69
        },
        {
          "output_type": "display_data",
          "data": {
            "text/plain": [
              "<Figure size 640x480 with 1 Axes>"
            ],
            "image/png": "[encoded data removed]"
          },
          "metadata": {}
        }
      ]
    },
    {
      "cell_type": "markdown",
      "source": [
        "There is a positive correlation between price and rating, with higher-priced phones generally receiving better ratings."
      ],
      "metadata": {
        "id": "kkTJHmeKd6rD"
      }
    },
    {
      "cell_type": "markdown",
      "source": [
        "Price vs Reviews"
      ],
      "metadata": {
        "id": "-9-vsZcCcX3l"
      }
    },
    {
      "cell_type": "code",
      "source": [
        "df['reviews'] = df['reviews'].str.replace('nan', '')\n",
        "df['reviews'] = pd.to_numeric(df['reviews'], errors='coerce')\n",
        "plt.plot(df['price'], df['reviews'], 'x')\n",
        "plt.title('Price vs Reviews')\n",
        "plt.xlabel('Price')\n",
        "plt.ylabel('Reviews')\n"
      ],
      "metadata": {
        "colab": {
          "base_uri": "https://localhost:8080/",
          "height": 490
        },
        "id": "GiBLSWVLcke8",
        "outputId": "342f90d8-1196-42f8-ed36-6175c56b0203"
      },
      "execution_count": 84,
      "outputs": [
        {
          "output_type": "execute_result",
          "data": {
            "text/plain": [
              "Text(0, 0.5, 'Reviews')"
            ]
          },
          "metadata": {},
          "execution_count": 84
        },
        {
          "output_type": "display_data",
          "data": {
            "text/plain": [
              "<Figure size 640x480 with 1 Axes>"
            ],
            "image/png": "[encoded data removed]"
          },
          "metadata": {}
        }
      ]
    },
    {
      "cell_type": "markdown",
      "source": [
        "The relationship between price and the number of reviews is weak, with a slight tendency for lower-priced phones to have more reviews."
      ],
      "metadata": {
        "id": "Dvbfpco9fMnT"
      }
    },
    {
      "cell_type": "markdown",
      "source": [
        "*Correlation Matrix*"
      ],
      "metadata": {
        "id": "hErBf0fgfWWD"
      }
    },
    {
      "cell_type": "markdown",
      "source": [
        "Price and Rating"
      ],
      "metadata": {
        "id": "42KeVo-IfsMq"
      }
    },
    {
      "cell_type": "code",
      "source": [
        "correlation_matrix = df[['price', 'rating']].corr()\n",
        "sns.heatmap(correlation_matrix, annot=True, cmap='coolwarm')\n",
        "plt.title('Correlation Matrix')\n",
        "plt.show()"
      ],
      "metadata": {
        "colab": {
          "base_uri": "https://localhost:8080/",
          "height": 452
        },
        "id": "xBVL4xUygC5l",
        "outputId": "dca23b81-a504-46c5-eefd-e017b758f82d"
      },
      "execution_count": 86,
      "outputs": [
        {
          "output_type": "display_data",
          "data": {
            "text/plain": [
              "<Figure size 640x480 with 2 Axes>"
            ],
            "image/png": "[encoded data removed]"
          },
          "metadata": {}
        }
      ]
    },
    {
      "cell_type": "markdown",
      "source": [
        "Correlation of 0.469, indicating a moderate positive relationship."
      ],
      "metadata": {
        "id": "UcPTOwfPgeYO"
      }
    },
    {
      "cell_type": "markdown",
      "source": [
        "Price and Battery Capacity"
      ],
      "metadata": {
        "id": "lg0k3Vgsgq7H"
      }
    },
    {
      "cell_type": "code",
      "source": [
        "print(df['battery'].unique())\n",
        "df['battery'] = df['battery'].str.extract('(\\d+)').astype(float)\n",
        "correlation_matrix = df[['price', 'battery']].corr()\n",
        "sns.heatmap(correlation_matrix, annot=True, cmap='coolwarm')\n",
        "plt.title('Correlation Matrix')\n",
        "plt.show()"
      ],
      "metadata": {
        "colab": {
          "base_uri": "https://localhost:8080/",
          "height": 1000
        },
        "id": "7B19QehAgVCb",
        "outputId": "cf30cca2-0599-4819-92b7-dcfffee7584b"
      },
      "execution_count": 88,
      "outputs": [
        {
          "output_type": "stream",
          "name": "stdout",
          "text": [
            "['5000 mAh Battery' '4000 mAh Battery' '6000 mAh Li-ion Polymer Battery'\n",
            " '4300 mAh Battery' '4500 mAh Lithium-ion Polymer Battery'\n",
            " '5000 mAh Li-ion Polymer Battery' '5000 mAh Lithium Polymer Battery'\n",
            " '5000 mAh Lithium-ion Battery' '6000 mAh Lithium-ion Polymer Battery'\n",
            " '5000 mAh Lithium-ion Polymer Battery' '4230 mAh Battery'\n",
            " '4030 mAh Li-ion Battery' '4035 mAh Battery'\n",
            " '4500 mAh Li-polymer Battery' '4500 mAh Li-ion Battery'\n",
            " '4200 mAh Battery' '5000 mAh Li-ion Battery'\n",
            " '4000 mAh Li-ion Polymer Battery' '5020 mAh Battery'\n",
            " '4500 mAh Lithium-ion Battery' '4000 mAh Lithium-ion Polymer Battery'\n",
            " '4000 mAh Li-polymer Battery' '6000 mAh Battery'\n",
            " '4000 mAh Lithium-ion Battery' '4030 mAh Lithium-ion Battery'\n",
            " '5000 mAh Li-ion Polymer Battery Battery'\n",
            " '4500 mAh Lithium Polymer Battery' '4440 mAh Li-ion Battery'\n",
            " '4230 mAh Li-polymer Battery' '3700 mAh Battery' '3765 mAh Battery'\n",
            " '4000 mAh Lithium Polymer Battery' '3950 mAh Lithium Polymer Battery'\n",
            " '6000 mAh Lithium Polymer Battery' '3100 mAh Lithium Polymer Battery'\n",
            " '3800 mAh Battery' '4030 mAh Battery'\n",
            " '4000 mAh Li-ion Polymer Battery Battery' '4200 mAh Lithium-ion Battery'\n",
            " '3000 mAh Battery' '4025 mAh Battery' '4065 mAh Battery'\n",
            " '4315 mAh Lithium-ion Battery' '3080 mAh Li Polymer Battery'\n",
            " '2600 mAh Lithium-ion Battery' '4020 mAh Battery' '3010 mAh Battery'\n",
            " '3500 mAh Battery' '4780 mAh Battery' '4500 mAh Lithium Ion Battery'\n",
            " '5000 mAH Battery' '3600 mAh Battery' '4085 mAh Battery'\n",
            " '2500 mAh Battery' '3500 mAh Li-ion Battery' '4010 mAh Battery'\n",
            " '3750 mAh Battery' '4100 mAh Li-ion Battery' '3340 mAh Yes Battery'\n",
            " '2050 mAh Battery' '4000 mAh Li Polymer Battery'\n",
            " '3000 mAh Li-polymer Battery' '4000 mAh Li-ion Battery'\n",
            " '4050 mAh Battery' '3520 mAh Battery' '3030 mAh Lithium-polymer Battery'\n",
            " '3700 mAh Li-ion Battery' '6000 mAH Battery' '2750 mAh Battery'\n",
            " '2300 mAh Li-Polymer Battery' '3300 mAh Battery' '2300 mAh Battery'\n",
            " '2400 mAh Battery' '3340 mAh Battery' '3020 mAh Battery'\n",
            " '1300 mAh Li-Ion Battery' '4045 mAh Battery' '3050 mAh Battery'\n",
            " '3100 mAh Li-Polymer Battery' '2670 mAh Lithium-polymer Battery'\n",
            " '2500 mAh Li-ion Battery' '2000 mAh Battery'\n",
            " '4300 mAh Lithium-ion Battery' '3000 mAh Li-ion Battery'\n",
            " '2900 mAh Polymer Battery' '3730 mAh Li-polymer Battery'\n",
            " '3060 mAh Battery' '3225 mAh Li-ion Battery'\n",
            " '4000 mAh Lithium Ion Battery' '3100 mAh Lithium-ion Battery'\n",
            " '3400 mAh Lithium-ion Battery' '4100 mAh Lithium-ion Battery'\n",
            " '3500 mAh Li-Ion Battery' '3400 mAh Lithium Polymer Battery'\n",
            " '1800 mAh Battery' '4010 mAh Li-Ion Polymer Battery'\n",
            " '3050 mAh Li-ion Polymer Battery' '4500 mAh Battery'\n",
            " '2500 mAh Lithium-ion Battery' '1750 mAh Li-Ion Battery'\n",
            " '5020 mAh Li-Ion Polymer Battery' '3800 mAh Lithium-ion Battery'\n",
            " '2630 mAh Battery' '3000 mAh Li-ion Polymer Battery'\n",
            " '2070 mAh Li-Polymer Battery' '2450 mAh Battery'\n",
            " '2500 mAh Lithium Ion Battery' '3380 mAh Battery' '2600 mAh Battery'\n",
            " '2000 mAh Li-ion Battery' '2300 mAh Li-Ion Battery'\n",
            " '2000 mAh Li-Ion Battery' '2400 mAh Li-Polymer Battery'\n",
            " '2500 mAh Li-polymer Battery' '4020 mAh Li-polymer Battery'\n",
            " '4120 mAh Li-polymer Battery' '4000 mAh Polymer Battery'\n",
            " '1550 mAh Battery' '2200 mAh Lithium ion Battery' '1200 mAh Battery'\n",
            " '2900 mAh Li-Ion Battery' '3360 mAh Li-ion Battery' '2200 mAh Battery'\n",
            " '3000 mAh Li Polymer Battery' '3050 mAh Li-Ion Battery'\n",
            " '4100 mAh Li-Polymer Battery' '3300 mAh Lithium-ion Battery'\n",
            " '3070 mAh Battery' '3200 mAh Li-ion Battery' '1400 mAh Battery'\n",
            " '4000 mAh Li-Polymer Battery' '1800 mAh Li-Ion Battery'\n",
            " '3550 mAh Li Polymer Battery' '2500 mAh Li-Polymer Battery'\n",
            " '2800 mAh Battery' '3260 mAh Battery' '3400 mAh Battery'\n",
            " '2800 mAh Li-ion Battery' '3180 mAh Battery'\n",
            " '2500 mAh Lithium Polymer Battery' '3100 mAh Battery' '1750 mAh Battery'\n",
            " '3200 mAh Battery' '3760 mAh Battery' '1950 mAh Li-Ion Battery'\n",
            " '5050 mAh Battery' '2100 mAh Battery' '4900 mAh Li-Polymer Battery'\n",
            " '2350 mAh Li-Ion Battery' '3300 mAh Li-ion Battery' '1600 mAh Battery'\n",
            " '3050 mAh Li-Polymer Battery' '3130 mAh Battery'\n",
            " '2920 mAh Li-Polymer Battery' '3200 mAh Li-Po Battery'\n",
            " '3100 mAh Li-Ion Battery' '2970 mAh Battery'\n",
            " '3000 mAh Li-Polymer Battery' '3000 mAh Lithium-polymer Battery'\n",
            " '3260 mAh Li-ion Battery' '2600 mAh Li-Ion Battery'\n",
            " '5000 mAh Polymer Battery' '2730 mAh Battery' '4230 mAh Li-ion Battery'\n",
            " '2900 mAh Battery' '2300 mAh Lithium Polymer Battery' '4510 mAh Battery'\n",
            " '3000 mAh Li-Ion Battery' '2300 mAh Li-Ion Polymer Battery'\n",
            " '1400 mAh Li-Ion Battery' '3500 mAh Li-Po Battery'\n",
            " '3260 mAh Li-Polymer Battery Battery' '2350 mAh Battery'\n",
            " '3500 mAh Lithium-ion Battery' '4550 mAh Battery'\n",
            " '2680 mAh Li-Ion Battery' '2100 mAh Li-Ion Battery']\n"
          ]
        },
        {
          "output_type": "display_data",
          "data": {
            "text/plain": [
              "<Figure size 640x480 with 2 Axes>"
            ],
            "image/png": "[encoded data removed]"
          },
          "metadata": {}
        }
      ]
    },
    {
      "cell_type": "markdown",
      "source": [
        "Correlation of 0.595, indicating a strong positive relationship."
      ],
      "metadata": {
        "id": "PUvCP1e1hQRj"
      }
    },
    {
      "cell_type": "markdown",
      "source": [
        "**Additional Insights**"
      ],
      "metadata": {
        "id": "ATxPT7kEhUrc"
      }
    },
    {
      "cell_type": "markdown",
      "source": [
        "1. Battery capacity appears to have a strong impact on ratings, possibly indicating that phones with better battery life are more favored by users."
      ],
      "metadata": {
        "id": "nEAbfhKHhdoo"
      }
    },
    {
      "cell_type": "markdown",
      "source": [
        "2. Processor type and memory capacity could further be explored to see if they significantly influence price or rating."
      ],
      "metadata": {
        "id": "xWE_zSyxhntQ"
      }
    },
    {
      "cell_type": "markdown",
      "source": [
        "Rating based on all other columns"
      ],
      "metadata": {
        "id": "sUSnN5bVidr_"
      }
    },
    {
      "cell_type": "markdown",
      "source": [
        "*Rating based on Memory*"
      ],
      "metadata": {
        "id": "Y07zEKl_inG0"
      }
    },
    {
      "cell_type": "code",
      "source": [
        "predict_rating = df.groupby('memory')['rating'].mean()\n",
        "print(predict_rating)"
      ],
      "metadata": {
        "colab": {
          "base_uri": "https://localhost:8080/"
        },
        "id": "0yn1HbAyhjGV",
        "outputId": "0cb0cf5a-ccfb-4689-fc3b-0102dffefa8a"
      },
      "execution_count": 89,
      "outputs": [
        {
          "output_type": "stream",
          "name": "stdout",
          "text": [
            "memory\n",
            "1 GB RAM | 16 GB ROM                              3.500000\n",
            "1 GB RAM | 16 GB ROM | Expandable Upto 128 GB     3.971429\n",
            "1 GB RAM | 16 GB ROM | Expandable Upto 256 GB     4.100000\n",
            "1 GB RAM | 16 GB ROM | Expandable Upto 32 GB      4.171429\n",
            "1 GB RAM | 16 GB ROM | Expandable Upto 512 GB     4.500000\n",
            "                                                    ...   \n",
            "8 GB RAM | 256 GB ROM                             4.510526\n",
            "8 GB RAM | 256 GB ROM | Expandable Upto 256 GB    4.480000\n",
            "8 GB RAM | 256 GB ROM | Expandable Upto 512 GB    4.460000\n",
            "8 GB RAM | 512 GB ROM | Expandable Upto 1 TB      4.500000\n",
            "8 GB RAM | 512 GB ROM | Expandable Upto 512 GB    4.600000\n",
            "Name: rating, Length: 89, dtype: float64\n"
          ]
        }
      ]
    },
    {
      "cell_type": "markdown",
      "source": [
        "*Rating based on Processor*"
      ],
      "metadata": {
        "id": "IksUGuA4i_uo"
      }
    },
    {
      "cell_type": "code",
      "source": [
        "df = df[df['processor'].str.contains('Core|GHz', na=False)]\n",
        "predict_rating = df.groupby('processor')['rating'].mean()\n",
        "print(predict_rating)"
      ],
      "metadata": {
        "colab": {
          "base_uri": "https://localhost:8080/"
        },
        "id": "WVwA5czcjGqi",
        "outputId": "fad59bcb-710a-4862-cd97-af0b3d541b53"
      },
      "execution_count": 91,
      "outputs": [
        {
          "output_type": "stream",
          "name": "stdout",
          "text": [
            "processor\n",
            "0 0 Octa Core 1.3GHz Processor                                        3.9\n",
            "0 0 Quad Core 1.25GHz Processor                                       3.9\n",
            "0 0 Quad Core 1.3GHz Processor                                        4.0\n",
            "0 0 Quad Core 1.5GHz Processor                                        3.9\n",
            "0 32-bit Quad Core 1.3GHz Processor                                   3.9\n",
            "                                                                     ... \n",
            "Spreadtrum SC7731G Quad Core 1.3GHz Processor                         3.7\n",
            "Spreadtrum SC9832 Quad Core 1.3GHz Processor                          3.8\n",
            "Unisoc Octa Core Processor                                            4.1\n",
            "qualcomm Qualcomm Snapdragon 800 8274AB Quad Core 2.3GHz Processor    4.4\n",
            " Exynos 9611-Octa Core processor Processor                            4.3\n",
            "Name: rating, Length: 87, dtype: float64\n"
          ]
        }
      ]
    },
    {
      "cell_type": "markdown",
      "source": [
        "Clusturing of Phones"
      ],
      "metadata": {
        "id": "zApmyq2bjucl"
      }
    },
    {
      "cell_type": "code",
      "source": [
        "# Visualize clusters using Seaborn\n",
        "sns.scatterplot(x='price', y='rating', hue='cluster', data=df, palette='viridis')\n",
        "plt.legend(title='Phone Cluster')\n",
        "plt.title('Phone Clusters')\n",
        "plt.xlabel('Price')\n",
        "plt.ylabel('Rating')\n",
        "plt.show()\n"
      ],
      "metadata": {
        "colab": {
          "base_uri": "https://localhost:8080/",
          "height": 472
        },
        "id": "K8n-H3hSkZog",
        "outputId": "8769091c-a661-44aa-f788-0469fa831047"
      },
      "execution_count": 103,
      "outputs": [
        {
          "output_type": "display_data",
          "data": {
            "text/plain": [
              "<Figure size 640x480 with 1 Axes>"
            ],
            "image/png": "[encoded data removed]"
          },
          "metadata": {}
        }
      ]
    },
    {
      "cell_type": "markdown",
      "source": [],
      "metadata": {
        "id": "sY9RPzgMnQnj"
      }
    },
    {
      "cell_type": "markdown",
      "source": [
        "**1. Price and Rating Relationship:** A positive correlation between price and rating, where phones in higher price ranges tend to have better ratings. This\n",
        "could suggest that customers are generally willing to pay more for phones with better features and performance.\n",
        "\n",
        "**2. Battery Life:** Clustures where battery life isn't a strong differentiator, while in others, it plays a significant role in defining the cluster.\n",
        "\n",
        "**3. Distinct Market Segments:** The clusters here we can identified likely represent distinct segments in the phone market. You could have clusters like:\n",
        "\n",
        "**Budget-friendly:** Lower prices,\n",
        "decent\n",
        "ratings, possibly compromising on some features.\n",
        "\n",
        "**Mid-range:** Balance of price, features,\n",
        "and performance.\n",
        "\n",
        "**Flagship:** High-end devices with premium features, excellent ratings, and higher prices."
      ],
      "metadata": {
        "id": "Eq6PV7Z1nzX7"
      }
    }
  ]
}